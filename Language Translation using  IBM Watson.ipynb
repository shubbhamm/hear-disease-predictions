{
 "cells": [
  {
   "cell_type": "code",
   "execution_count": 1,
   "metadata": {},
   "outputs": [
    {
     "name": "stdout",
     "output_type": "stream",
     "text": [
      "Collecting ibm_watson\n",
      "  Downloading ibm-watson-6.0.0.tar.gz (338 kB)\n",
      "  Installing build dependencies: started\n",
      "  Installing build dependencies: finished with status 'done'\n",
      "  Getting requirements to build wheel: started\n",
      "  Getting requirements to build wheel: finished with status 'done'\n",
      "    Preparing wheel metadata: started\n",
      "    Preparing wheel metadata: finished with status 'done'\n",
      "Requirement already satisfied: requests<3.0,>=2.0 in c:\\users\\91899\\anaconda3\\lib\\site-packages (from ibm_watson) (2.25.1)\n",
      "Collecting websocket-client==1.1.0\n",
      "  Downloading websocket_client-1.1.0-py2.py3-none-any.whl (68 kB)\n",
      "Collecting ibm-cloud-sdk-core==3.*,>=3.3.6\n",
      "  Downloading ibm-cloud-sdk-core-3.15.1.tar.gz (50 kB)\n",
      "Requirement already satisfied: python-dateutil>=2.5.3 in c:\\users\\91899\\anaconda3\\lib\\site-packages (from ibm_watson) (2.8.1)\n",
      "Collecting requests<3.0,>=2.0\n",
      "  Using cached requests-2.27.1-py2.py3-none-any.whl (63 kB)\n",
      "Requirement already satisfied: urllib3<2.0.0,>=1.26.0 in c:\\users\\91899\\anaconda3\\lib\\site-packages (from ibm-cloud-sdk-core==3.*,>=3.3.6->ibm_watson) (1.26.4)\n",
      "Collecting PyJWT<3.0.0,>=2.0.1\n",
      "  Downloading PyJWT-2.3.0-py3-none-any.whl (16 kB)\n",
      "Requirement already satisfied: six>=1.5 in c:\\users\\91899\\anaconda3\\lib\\site-packages (from python-dateutil>=2.5.3->ibm_watson) (1.15.0)\n",
      "Collecting charset-normalizer~=2.0.0\n",
      "  Using cached charset_normalizer-2.0.12-py3-none-any.whl (39 kB)\n",
      "Requirement already satisfied: certifi>=2017.4.17 in c:\\users\\91899\\anaconda3\\lib\\site-packages (from requests<3.0,>=2.0->ibm_watson) (2020.12.5)\n",
      "Requirement already satisfied: idna<4,>=2.5 in c:\\users\\91899\\anaconda3\\lib\\site-packages (from requests<3.0,>=2.0->ibm_watson) (2.10)\n",
      "Building wheels for collected packages: ibm-watson, ibm-cloud-sdk-core\n",
      "  Building wheel for ibm-watson (PEP 517): started\n",
      "  Building wheel for ibm-watson (PEP 517): finished with status 'done'\n",
      "  Created wheel for ibm-watson: filename=ibm_watson-6.0.0-py3-none-any.whl size=336807 sha256=bd1b29e1cac9934f3ee3cc1cdc138b774095fe87033ea3f0925a2f7b7089e8b1\n",
      "  Stored in directory: c:\\users\\91899\\appdata\\local\\pip\\cache\\wheels\\b1\\79\\34\\ab67fe0700281273e9363602813a4cb18d3ce8f50b6f9d1281\n",
      "  Building wheel for ibm-cloud-sdk-core (setup.py): started\n",
      "  Building wheel for ibm-cloud-sdk-core (setup.py): finished with status 'done'\n",
      "  Created wheel for ibm-cloud-sdk-core: filename=ibm_cloud_sdk_core-3.15.1-py3-none-any.whl size=83643 sha256=d2954878694bd68faf9ac50f93376f1782365498ee6bbcd0cab3965bb7a0ba1e\n",
      "  Stored in directory: c:\\users\\91899\\appdata\\local\\pip\\cache\\wheels\\30\\0b\\ac\\6d2e7a6b91dda849e2ce60150805d75cf8a0f27224926a555a\n",
      "Successfully built ibm-watson ibm-cloud-sdk-core\n",
      "Installing collected packages: charset-normalizer, requests, PyJWT, websocket-client, ibm-cloud-sdk-core, ibm-watson\n",
      "  Attempting uninstall: requests\n",
      "    Found existing installation: requests 2.25.1\n",
      "    Uninstalling requests-2.25.1:\n",
      "      Successfully uninstalled requests-2.25.1\n",
      "Successfully installed PyJWT-2.3.0 charset-normalizer-2.0.12 ibm-cloud-sdk-core-3.15.1 ibm-watson-6.0.0 requests-2.27.1 websocket-client-1.1.0\n"
     ]
    },
    {
     "name": "stderr",
     "output_type": "stream",
     "text": [
      "ERROR: pip's dependency resolver does not currently take into account all the packages that are installed. This behaviour is the source of the following dependency conflicts.\n",
      "conda-repo-cli 1.0.4 requires pathlib, which is not installed.\n",
      "anaconda-project 0.9.1 requires ruamel-yaml, which is not installed.\n"
     ]
    }
   ],
   "source": [
    "!pip install ibm_watson"
   ]
  },
  {
   "cell_type": "markdown",
   "metadata": {},
   "source": [
    "### Workflow\n",
    "\n",
    "\n",
    "**We're gonna capture the text in `python`,then we're gonna send this to the `IBM` cloud where the text will be converted to our desired language and the we will convert that `translated text` into a speech using `Watson AI` and then we will output the file**"
   ]
  },
  {
   "cell_type": "markdown",
   "metadata": {},
   "source": [
    "**Inorder to set things up,go to `cloud.ibm.com` and then go to the `Categories` option,select the `Machine Learning and AI` category and then from that select the `Language Translator` category,a new window pop's up,by default the `lite` version will be selected and that's fine,as that's free version and we'll use that,hit on `create` and the service will be created for us and then we'll be getting an `API` key so we'll be using that `API` key for making things going**"
   ]
  },
  {
   "cell_type": "markdown",
   "metadata": {},
   "source": [
    "## 1. Authenticate"
   ]
  },
  {
   "cell_type": "code",
   "execution_count": 2,
   "metadata": {},
   "outputs": [],
   "source": [
    "API_key = 'I6eCsG3fVH6k-L_4MYAbvgD_eoXk1U480UC8GezkUUcc'\n",
    "url = 'https://api.eu-gb.language-translator.watson.cloud.ibm.com/instances/209d939b-59cb-4001-a707-013244cee735'\n"
   ]
  },
  {
   "cell_type": "code",
   "execution_count": 3,
   "metadata": {},
   "outputs": [],
   "source": [
    "## importing dependancies\n",
    "\n",
    "## this is the language translator\n",
    "\n",
    "from ibm_watson import LanguageTranslatorV3\n",
    "\n",
    "# this is the authentication service\n",
    "\n",
    "from ibm_cloud_sdk_core.authenticators import IAMAuthenticator"
   ]
  },
  {
   "cell_type": "code",
   "execution_count": 9,
   "metadata": {},
   "outputs": [],
   "source": [
    "# autheniticating the API key\n",
    "\n",
    "authenticator = IAMAuthenticator(apikey=API_key)\n",
    "\n",
    "# setting our language translator object\n",
    "\n",
    "langtranslator = LanguageTranslatorV3(version='02/08/2022',\n",
    "                                     authenticator=authenticator)\n",
    "\n",
    "# establishing the connection with the service\n",
    "\n",
    "langtranslator.set_service_url(url)"
   ]
  },
  {
   "cell_type": "markdown",
   "metadata": {},
   "source": [
    "## 2.Translate"
   ]
  },
  {
   "cell_type": "code",
   "execution_count": 5,
   "metadata": {},
   "outputs": [],
   "source": [
    "translation = langtranslator.translate(text='Hello World',model_id='en-hi')"
   ]
  },
  {
   "cell_type": "code",
   "execution_count": 6,
   "metadata": {},
   "outputs": [
    {
     "data": {
      "text/plain": [
       "{'translations': [{'translation': 'हेलो वर्ल्ड'}],\n",
       " 'word_count': 2,\n",
       " 'character_count': 11}"
      ]
     },
     "execution_count": 6,
     "metadata": {},
     "output_type": "execute_result"
    }
   ],
   "source": [
    "translation.get_result()"
   ]
  },
  {
   "cell_type": "code",
   "execution_count": 7,
   "metadata": {},
   "outputs": [
    {
     "data": {
      "text/plain": [
       "{'translations': [{'translation': 'आधुनिक आनुवंशिकी में आम सहमति के अनुसार, शरीर रचना की दृष्टि से आधुनिक मानव पहले भारतीय उपमहाद्वीप पर अफ्रीका से 73,000 से 55,000 वर्ष पहले आ गए थे. [1] हालांकि, सबसे पहले ज्ञात मानव दक्षिण एशिया में 30,000 साल पहले की तारीख में ही रहता है. स्थायी जीवन, जिसमें खेती और पशुपालन के लिए संक्रमण से संक्रमण शामिल है, लगभग 7,000 बीसीई के आसपास दक्षिण एशिया में शुरू हुआ. मेहरगढ़ की उपस्थिति के स्थल पर गेहूं और जौ के निष्कासन का विवरण दिया जा सकता है, इसके बाद बकरी, भेड़ और मवेशी का तेजी से पालन किया जा सकता है. [2] 4,500 ई. पू. तक, बसा हुआ जीवन व्यापक रूप से फैल गया, [2] और धीरे-धीरे सिंधु घाटी की सभ्यता, जो प्राचीन मिस्र और मेसोपोटामिया के साथ समकालीन थी, में धीरे धीरे विकसित होना शुरू हुआ. यह सभ्यता 2,500 ईसा पूर्व और 1900 ईसा पूर्व के बीच विकसित हुई, जो आज पाकिस्तान और उत्तर-पश्चिमी भारत है, और इसकी शहरी नियोजन, पकी ईंट के घरों, विस्तृत जल निकासी और पानी की आपूर्ति के लिए जाना जाता था। [3]'}],\n",
       " 'word_count': 179,\n",
       " 'character_count': 949}"
      ]
     },
     "execution_count": 7,
     "metadata": {},
     "output_type": "execute_result"
    }
   ],
   "source": [
    "## trying for bigger text\n",
    "\n",
    "text = 'According to consensus in modern genetics anatomically modern humans first arrived on the Indian subcontinent from Africa between 73,000 and 55,000 years ago.[1] However, the earliest known human remains in South Asia date to 30,000 years ago. Settled life, which involves the transition from foraging to farming and pastoralism, began in South Asia around 7,000 BCE. At the site of Mehrgarh presence can be documented of the domestication of wheat and barley, rapidly followed by that of goats, sheep, and cattle.[2] By 4,500 BCE, settled life had spread more widely,[2] and began to gradually evolve into the Indus Valley Civilization, an early civilization of the Old world, which was contemporaneous with Ancient Egypt and Mesopotamia. This civilisation flourished between 2,500 BCE and 1900 BCE in what today is Pakistan and north-western India, and was noted for its urban planning, baked brick houses, elaborate drainage, and water supply.[3]'\n",
    "\n",
    "translation = langtranslator.translate(text=text,model_id='en-hi')\n",
    "\n",
    "translation.get_result()"
   ]
  },
  {
   "cell_type": "markdown",
   "metadata": {},
   "source": [
    "**An awesome application of this is say that you're having a webpage and the local people are not able to understand english,they can only understand the local language,so make a button named translate on the webpage and then render all the english webpage content to the backend model and then the model at the backend will translate the text and we can display this text in the template which is the translated text**"
   ]
  },
  {
   "cell_type": "code",
   "execution_count": 8,
   "metadata": {},
   "outputs": [
    {
     "data": {
      "text/plain": [
       "'आधुनिक आनुवंशिकी में आम सहमति के अनुसार, शरीर रचना की दृष्टि से आधुनिक मानव पहले भारतीय उपमहाद्वीप पर अफ्रीका से 73,000 से 55,000 वर्ष पहले आ गए थे. [1] हालांकि, सबसे पहले ज्ञात मानव दक्षिण एशिया में 30,000 साल पहले की तारीख में ही रहता है. स्थायी जीवन, जिसमें खेती और पशुपालन के लिए संक्रमण से संक्रमण शामिल है, लगभग 7,000 बीसीई के आसपास दक्षिण एशिया में शुरू हुआ. मेहरगढ़ की उपस्थिति के स्थल पर गेहूं और जौ के निष्कासन का विवरण दिया जा सकता है, इसके बाद बकरी, भेड़ और मवेशी का तेजी से पालन किया जा सकता है. [2] 4,500 ई. पू. तक, बसा हुआ जीवन व्यापक रूप से फैल गया, [2] और धीरे-धीरे सिंधु घाटी की सभ्यता, जो प्राचीन मिस्र और मेसोपोटामिया के साथ समकालीन थी, में धीरे धीरे विकसित होना शुरू हुआ. यह सभ्यता 2,500 ईसा पूर्व और 1900 ईसा पूर्व के बीच विकसित हुई, जो आज पाकिस्तान और उत्तर-पश्चिमी भारत है, और इसकी शहरी नियोजन, पकी ईंट के घरों, विस्तृत जल निकासी और पानी की आपूर्ति के लिए जाना जाता था। [3]'"
      ]
     },
     "execution_count": 8,
     "metadata": {},
     "output_type": "execute_result"
    }
   ],
   "source": [
    "translation.get_result()['translations'][0]['translation']"
   ]
  },
  {
   "cell_type": "code",
   "execution_count": null,
   "metadata": {},
   "outputs": [],
   "source": []
  }
 ],
 "metadata": {
  "kernelspec": {
   "display_name": "Python 3",
   "language": "python",
   "name": "python3"
  },
  "language_info": {
   "codemirror_mode": {
    "name": "ipython",
    "version": 3
   },
   "file_extension": ".py",
   "mimetype": "text/x-python",
   "name": "python",
   "nbconvert_exporter": "python",
   "pygments_lexer": "ipython3",
   "version": "3.8.8"
  }
 },
 "nbformat": 4,
 "nbformat_minor": 4
}
